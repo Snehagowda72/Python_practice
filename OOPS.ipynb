{
 "cells": [
  {
   "cell_type": "code",
   "execution_count": 5,
   "id": "e72a62ae-c0b8-40ec-a529-db53a5d09311",
   "metadata": {},
   "outputs": [
    {
     "name": "stdout",
     "output_type": "stream",
     "text": [
      "Welcome to oops concept\n"
     ]
    }
   ],
   "source": [
    "# predict the output\n",
    "class python:\n",
    "    def fun(self): # self is helps to access the other body of the statments \n",
    "        print(\"Welcome to oops concept\")\n",
    "pyt = python()\n",
    "pyt.fun()"
   ]
  },
  {
   "cell_type": "code",
   "execution_count": 19,
   "id": "deba3d2a-3d92-4786-bcfb-7759ff862016",
   "metadata": {},
   "outputs": [
    {
     "name": "stdout",
     "output_type": "stream",
     "text": [
      "Name: AUDI Id: 2000000\n"
     ]
    }
   ],
   "source": [
    "class Car:\n",
    "    'Common_car'\n",
    "    car=0\n",
    "    def __init__(self,name,id): #initializing the class or objects\n",
    "        self.name=name\n",
    "        self.id=id\n",
    "        Car.car+=1\n",
    "\n",
    "    def printCardata(self):     # printing statments\n",
    "        print(\"Name:\",self.name,\"Id:\",self.id)\n",
    "c=Car(\"AUDI\", 2000000)\n",
    "c.printCardata()"
   ]
  },
  {
   "cell_type": "code",
   "execution_count": 3,
   "id": "29adad8e-3a6b-4f5e-a6f0-1789bd9b196b",
   "metadata": {},
   "outputs": [
    {
     "name": "stdout",
     "output_type": "stream",
     "text": [
      "xxxxxx 26 30000\n"
     ]
    }
   ],
   "source": [
    "class employee:\n",
    "    def __init__(self,n,a,s):\n",
    "        self.name = n\n",
    "        self.age=a\n",
    "        self.salary=s\n",
    "    def display_data(self):\n",
    "        print(self.name,self.age, self.salary)\n",
    "\n",
    "e1= employee(\"xxxxxx\",26,30000)\n",
    "e1.display_data()"
   ]
  },
  {
   "cell_type": "code",
   "execution_count": 11,
   "id": "378949b1-147c-41c2-b646-adcded23f270",
   "metadata": {},
   "outputs": [
    {
     "name": "stdout",
     "output_type": "stream",
     "text": [
      "MummaDuck PapaDuck BabyDuck\n"
     ]
    }
   ],
   "source": [
    "class Birds:\n",
    "    def __init__(self,b1,b2,b3):\n",
    "        self.b1=b1\n",
    "        self.b2=b2\n",
    "        self.b3=b3\n",
    "    def printdata(self):\n",
    "        print(self.b1,self.b2,self.b3)\n",
    "b=Birds(\"MummaDuck\",\"PapaDuck\",\"BabyDuck\")\n",
    "b.printdata()"
   ]
  },
  {
   "cell_type": "code",
   "execution_count": 15,
   "id": "f7569293-93ef-479f-a12f-c9ae0f719325",
   "metadata": {},
   "outputs": [
    {
     "name": "stdout",
     "output_type": "stream",
     "text": [
      "MammaPanda PapaPanda BabyPanda\n"
     ]
    }
   ],
   "source": [
    "class Animals:\n",
    "    def __init__(self,a1,a2,a3):\n",
    "        self.a1=a1\n",
    "        self.a2=a2\n",
    "        self.a3=a3\n",
    "    def printdata(self):\n",
    "        print(self.a1,self.a2,self.a3)\n",
    "b=Animals(\"MammaPanda\",\"PapaPanda\",\"BabyPanda\")\n",
    "b.printdata()"
   ]
  },
  {
   "cell_type": "code",
   "execution_count": 17,
   "id": "d519c529-c0e5-4e03-b36b-daeedee760c0",
   "metadata": {},
   "outputs": [
    {
     "name": "stdout",
     "output_type": "stream",
     "text": [
      "Positive values: 1 2\n",
      "Negative values: -1 -2\n"
     ]
    }
   ],
   "source": [
    "class Numbers:\n",
    "    def __init__(self, pos1, pos2, neg1, neg2):\n",
    "        self.pos1 = pos1\n",
    "        self.pos2 = pos2\n",
    "        self.neg1 = neg1\n",
    "        self.neg2 = neg2\n",
    "\n",
    "    def printdata(self):\n",
    "        print(\"Positive values:\", self.pos1, self.pos2)\n",
    "        print(\"Negative values:\", self.neg1, self.neg2)\n",
    "\n",
    "b = Numbers(1, 2, -1, -2)\n",
    "b.printdata()"
   ]
  },
  {
   "cell_type": "code",
   "execution_count": 25,
   "id": "54defe79-e986-42fe-a0a6-0875270f9a8b",
   "metadata": {},
   "outputs": [
    {
     "name": "stdin",
     "output_type": "stream",
     "text": [
      "enter a number 15\n"
     ]
    },
    {
     "name": "stdout",
     "output_type": "stream",
     "text": [
      "positive\n"
     ]
    }
   ],
   "source": [
    "class Number:\n",
    "    def __init__(self,n):\n",
    "        self.number=n\n",
    "    def check_num(self):\n",
    "        if self.number>0:\n",
    "            print(\"positive\")\n",
    "        else:\n",
    "            print(\"negative\")\n",
    "\n",
    "\n",
    "n1=Number(int(input(\"enter a number\")))\n",
    "n1.check_num()"
   ]
  },
  {
   "cell_type": "code",
   "execution_count": 27,
   "id": "5964ed2d-cb3f-4373-bb02-1a4c41057749",
   "metadata": {},
   "outputs": [
    {
     "name": "stdout",
     "output_type": "stream",
     "text": [
      "Total Cars: 3\n",
      "Name: AUDI Id: 2000000\n",
      "Name: BENZ Id: 3000000\n",
      "Name: BMW Id: 10000000\n"
     ]
    }
   ],
   "source": [
    "class Car:\n",
    "    'Common_car'\n",
    "    car=0\n",
    "    def __init__(self,name,id): #initializing the class or objects\n",
    "        self.name=name\n",
    "        self.id=id\n",
    "        Car.car+=1\n",
    "\n",
    "    def printCardata(self):     # printing statments\n",
    "        print(\"Name:\",self.name,\"Id:\",self.id)\n",
    "c=Car(\"AUDI\", 2000000)\n",
    "c1=Car(\"BENZ\",3000000)\n",
    "c2=Car(\"BMW\",10000000)\n",
    "print(\"Total Cars:\",Car.car)\n",
    "c.printCardata()\n",
    "c1.printCardata()\n",
    "c2.printCardata()"
   ]
  },
  {
   "cell_type": "code",
   "execution_count": 39,
   "id": "3cf5cec4-3a72-4316-abc7-1e551e239fb1",
   "metadata": {},
   "outputs": [
    {
     "name": "stdout",
     "output_type": "stream",
     "text": [
      "car\n",
      "Bike\n"
     ]
    }
   ],
   "source": [
    "class tests:\n",
    "    def __init__(self):\n",
    "        self.variable='car'\n",
    "        self.change(self.variable)\n",
    "    def change(self,var):\n",
    "        self.var='Bike'\n",
    "obj=tests()\n",
    "print(obj.variable)\n",
    "print(obj.var)"
   ]
  },
  {
   "cell_type": "code",
   "execution_count": 3,
   "id": "28278f20-4bfb-4327-96ee-a860b9295693",
   "metadata": {},
   "outputs": [
    {
     "name": "stdout",
     "output_type": "stream",
     "text": [
      "Engine is powerful\n",
      "100km\n"
     ]
    }
   ],
   "source": [
    "class car:\n",
    "    def speed(self):\n",
    "        print(\"100km\")\n",
    "class Audi(car):\n",
    "    def engine(self):\n",
    "        print(\"Engine is powerful\")\n",
    "c = Audi()\n",
    "c.engine()\n",
    "c.speed()"
   ]
  },
  {
   "cell_type": "code",
   "execution_count": 5,
   "id": "3e219d0a-db2f-4383-b38e-ef21a0a6a52f",
   "metadata": {},
   "outputs": [
    {
     "ename": "NameError",
     "evalue": "name 'Animal' is not defined",
     "output_type": "error",
     "traceback": [
      "\u001b[1;31m---------------------------------------------------------------------------\u001b[0m",
      "\u001b[1;31mNameError\u001b[0m                                 Traceback (most recent call last)",
      "Cell \u001b[1;32mIn[5], line 1\u001b[0m\n\u001b[1;32m----> 1\u001b[0m \u001b[38;5;28;01mclass\u001b[39;00m \u001b[38;5;21;01mDog\u001b[39;00m(Animal):\n\u001b[0;32m      2\u001b[0m     \u001b[38;5;28;01mdef\u001b[39;00m \u001b[38;5;21msound\u001b[39m(\u001b[38;5;28mself\u001b[39m):\n\u001b[0;32m      3\u001b[0m         \u001b[38;5;28mprint\u001b[39m(\u001b[38;5;124m\"\u001b[39m\u001b[38;5;124mbark\u001b[39m\u001b[38;5;124m\"\u001b[39m)\n",
      "\u001b[1;31mNameError\u001b[0m: name 'Animal' is not defined"
     ]
    }
   ],
   "source": [
    "class Dog(Animal):\n",
    "    def sound(self):\n",
    "        print(\"bark\")\n",
    "class Cat(Animal):\n",
    "    def sound(self):\n",
    "        print(\"meow\")\n",
    "\n",
    "dog = Dog()\n",
    "cat = Cat()\n",
    "\n",
    "# overriding\n",
    "\n",
    "dog.sound()\n",
    "cat.sound()"
   ]
  },
  {
   "cell_type": "code",
   "execution_count": 5,
   "id": "a991f44f-6911-4550-96ec-871a60d2641a",
   "metadata": {},
   "outputs": [
    {
     "name": "stdin",
     "output_type": "stream",
     "text": [
      " 10\n",
      " 2\n"
     ]
    },
    {
     "name": "stdout",
     "output_type": "stream",
     "text": [
      "Addition: 12\n",
      "Subtraction: 8\n",
      "Multiplication: 10 2\n",
      "Floor Division: 5\n"
     ]
    }
   ],
   "source": [
    "class Calculator:\n",
    "    def add(self,num1,num2):\n",
    "        self.num1=num1;\n",
    "        self.num2=num2;\n",
    "        return self.num1+self.num2\n",
    "    def sub(self,num1,num2):\n",
    "        return num1-num2;\n",
    "class AdvancedCalculator(Calculator):\n",
    "    def mul(self,num1,num2):\n",
    "        print(\"Multiplication:\",num1,num2)\n",
    "    def div(self,num1,num2):\n",
    "        return num1//num2;\n",
    "x=AdvancedCalculator()\n",
    "num1= int(input())\n",
    "num2= int(input())\n",
    "print(\"Addition: %d\" %(x.add(num1,num2)))\n",
    "print(\"Subtraction:\",x.sub(num1,num2))\n",
    "x.mul(num1,num2)\n",
    "print(\"Floor Division: %d\" %(x.div(num1,num2)))"
   ]
  },
  {
   "cell_type": "code",
   "execution_count": null,
   "id": "2092743f-c476-47ef-af18-87de4abb2f90",
   "metadata": {},
   "outputs": [],
   "source": [
    "\n",
    "    "
   ]
  }
 ],
 "metadata": {
  "kernelspec": {
   "display_name": "Python 3 (ipykernel)",
   "language": "python",
   "name": "python3"
  },
  "language_info": {
   "codemirror_mode": {
    "name": "ipython",
    "version": 3
   },
   "file_extension": ".py",
   "mimetype": "text/x-python",
   "name": "python",
   "nbconvert_exporter": "python",
   "pygments_lexer": "ipython3",
   "version": "3.12.4"
  }
 },
 "nbformat": 4,
 "nbformat_minor": 5
}
