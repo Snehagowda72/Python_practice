{
 "cells": [
  {
   "cell_type": "code",
   "execution_count": 7,
   "id": "16d4759f-87a3-4d7c-b3ce-80f20379b423",
   "metadata": {},
   "outputs": [
    {
     "name": "stdout",
     "output_type": "stream",
     "text": [
      "()\n"
     ]
    }
   ],
   "source": [
    "#Tuple\n",
    "\n",
    "#Creating Tuple\n",
    "empty_tuple= ()\n",
    "print(empty_tuple) #tuple with zero elements"
   ]
  },
  {
   "cell_type": "code",
   "execution_count": 9,
   "id": "42c017eb-0b3a-408a-be4d-6e05a2efda66",
   "metadata": {},
   "outputs": [
    {
     "name": "stdout",
     "output_type": "stream",
     "text": [
      "(26, 45, 32)\n"
     ]
    }
   ],
   "source": [
    "value_tuple =26,45,32\n",
    "print(value_tuple)"
   ]
  },
  {
   "cell_type": "code",
   "execution_count": 11,
   "id": "d85bc24b-30f8-4947-9576-d2f73948db9a",
   "metadata": {},
   "outputs": [
    {
     "name": "stdout",
     "output_type": "stream",
     "text": [
      "(26, 45, 'hello')\n"
     ]
    }
   ],
   "source": [
    "value_tuple= (26,45,'hello')\n",
    "print(value_tuple)"
   ]
  },
  {
   "cell_type": "code",
   "execution_count": 15,
   "id": "cc3597de-5bcf-4b05-bea6-a5ffb7827b5d",
   "metadata": {},
   "outputs": [
    {
     "name": "stdout",
     "output_type": "stream",
     "text": [
      "('hello',)\n"
     ]
    }
   ],
   "source": [
    "tuple=('hello',)\n",
    "print(tuple)"
   ]
  },
  {
   "cell_type": "code",
   "execution_count": 19,
   "id": "a77790a2-c386-4e04-9dff-e82dbcbce3e7",
   "metadata": {},
   "outputs": [
    {
     "ename": "TypeError",
     "evalue": "'tuple' object does not support item assignment",
     "output_type": "error",
     "traceback": [
      "\u001b[1;31m---------------------------------------------------------------------------\u001b[0m",
      "\u001b[1;31mTypeError\u001b[0m                                 Traceback (most recent call last)",
      "Cell \u001b[1;32mIn[19], line 3\u001b[0m\n\u001b[0;32m      1\u001b[0m \u001b[38;5;66;03m#tuple is immutable(value cannot be changed)\u001b[39;00m\n\u001b[0;32m      2\u001b[0m value_tuple \u001b[38;5;241m=\u001b[39m(\u001b[38;5;241m26\u001b[39m,\u001b[38;5;241m5\u001b[39m,\u001b[38;5;124m'\u001b[39m\u001b[38;5;124mhello\u001b[39m\u001b[38;5;124m'\u001b[39m)\n\u001b[1;32m----> 3\u001b[0m value_tuple[\u001b[38;5;241m1\u001b[39m]\u001b[38;5;241m=\u001b[39m\u001b[38;5;241m7\u001b[39m\n\u001b[0;32m      4\u001b[0m \u001b[38;5;28mprint\u001b[39m(value_tuple)\n",
      "\u001b[1;31mTypeError\u001b[0m: 'tuple' object does not support item assignment"
     ]
    }
   ],
   "source": [
    "#tuple is immutable(value cannot be changed)\n",
    "value_tuple =(26,5,'hello')\n",
    "value_tuple[1]=7\n",
    "print(value_tuple)"
   ]
  },
  {
   "cell_type": "code",
   "execution_count": 27,
   "id": "a3087017-441e-4a28-8d06-c04bcaa05283",
   "metadata": {},
   "outputs": [
    {
     "name": "stdout",
     "output_type": "stream",
     "text": [
      "(26, 45, 'hello', 7, 5.6, 'python')\n",
      "(7, 5.6, 'python', 26, 45, 'hello')\n"
     ]
    }
   ],
   "source": [
    "#concateation (+)\n",
    "value1= (26,45,'hello')\n",
    "value2= (7,5.6,\"python\")\n",
    "print(value1+value2)\n",
    "print(value2+value1)"
   ]
  },
  {
   "cell_type": "code",
   "execution_count": 29,
   "id": "42548345-ca4f-405e-bea8-44cd2e8ed2a1",
   "metadata": {},
   "outputs": [
    {
     "name": "stdout",
     "output_type": "stream",
     "text": [
      "((26, 45, 'hello'), (7, 5.6, 'python'))\n"
     ]
    }
   ],
   "source": [
    "# Nesting of tuple\n",
    "value1= (26,45,'hello')\n",
    "value2= (7,5.6,\"python\")\n",
    "value3=value1,value2\n",
    "print(value3)"
   ]
  },
  {
   "cell_type": "code",
   "execution_count": 31,
   "id": "600bc3a1-7749-4edf-a8ae-0d6a3c6e7f4e",
   "metadata": {},
   "outputs": [
    {
     "name": "stdout",
     "output_type": "stream",
     "text": [
      "(26, 45, 'hello', 26, 45, 'hello')\n"
     ]
    }
   ],
   "source": [
    "# Repetition in tuple\n",
    "value = (26,45,'hello')*2\n",
    "print(value)"
   ]
  },
  {
   "cell_type": "code",
   "execution_count": 39,
   "id": "e62bdf20-240a-4bcd-ae32-be28aec41968",
   "metadata": {},
   "outputs": [
    {
     "name": "stdout",
     "output_type": "stream",
     "text": [
      "7.5\n"
     ]
    }
   ],
   "source": [
    "#Accessing Values in Python Tuples\n",
    "value = (26,45,'hello',7.5)\n",
    "print(value[3])"
   ]
  },
  {
   "cell_type": "code",
   "execution_count": 41,
   "id": "7e8a9976-f77a-4cb8-b3db-693488c1a7f1",
   "metadata": {},
   "outputs": [
    {
     "name": "stdout",
     "output_type": "stream",
     "text": [
      "(26, 45, 'hello', 7.5)\n"
     ]
    }
   ],
   "source": [
    "#Slicing Tuples in Python\n",
    "#Slicing a Python tuple means dividing a tuple into small tuples using the indexing method.\n",
    "value = (26,45,'hello',7.5)\n",
    "print(value[0:])"
   ]
  },
  {
   "cell_type": "code",
   "execution_count": 43,
   "id": "1487b6cb-a66f-4ff3-9ef0-e00de4c71526",
   "metadata": {},
   "outputs": [
    {
     "name": "stdout",
     "output_type": "stream",
     "text": [
      "('hello', 7.5)\n"
     ]
    }
   ],
   "source": [
    "value = (26,45,'hello',7.5)\n",
    "print(value[2:])"
   ]
  },
  {
   "cell_type": "code",
   "execution_count": 45,
   "id": "417bc9aa-e0d9-43da-87a8-dbcefa6eb9d7",
   "metadata": {},
   "outputs": [
    {
     "name": "stdout",
     "output_type": "stream",
     "text": [
      "(26, 45, 'hello')\n"
     ]
    }
   ],
   "source": [
    "value = (26,45,'hello',7.5)\n",
    "print(value[:3])"
   ]
  },
  {
   "cell_type": "code",
   "execution_count": 53,
   "id": "972a371a-5db1-4072-9dde-ddbbca1f1b13",
   "metadata": {},
   "outputs": [
    {
     "name": "stdout",
     "output_type": "stream",
     "text": [
      "(26, 45, 'hello', 7.5, 'z', 5, 6.9)\n"
     ]
    }
   ],
   "source": [
    "value = (26,45,'hello',7.5,'z',5,6.9)\n",
    "print(value[:7])"
   ]
  },
  {
   "cell_type": "code",
   "execution_count": 55,
   "id": "12ac1646-b95d-4ec1-9b60-04cb7378bccc",
   "metadata": {},
   "outputs": [
    {
     "name": "stdout",
     "output_type": "stream",
     "text": [
      "(7.5, 'z', 5, 6.9)\n"
     ]
    }
   ],
   "source": [
    "value = (26,45,'hello',7.5,'z',5,6.9)\n",
    "print(value[-4:])"
   ]
  },
  {
   "cell_type": "code",
   "execution_count": 1,
   "id": "22ddbe93-9fca-4b12-97eb-97d00563f5e6",
   "metadata": {},
   "outputs": [
    {
     "name": "stdout",
     "output_type": "stream",
     "text": [
      "(26, 45, 'hello', 7.5, 'z', 5)\n"
     ]
    }
   ],
   "source": [
    "value = (26,45,'hello',7.5,'z',5,6.9)\n",
    "print(value[:-1])"
   ]
  },
  {
   "cell_type": "code",
   "execution_count": 3,
   "id": "a2a3dd04-10f9-48b6-964a-b7d5839ceb10",
   "metadata": {},
   "outputs": [
    {
     "name": "stdout",
     "output_type": "stream",
     "text": [
      "(6.9, 5, 'z', 7.5, 'hello', 45, 26)\n"
     ]
    }
   ],
   "source": [
    "value = (26,45,'hello',7.5,'z',5,6.9)\n",
    "print(value[::-1])"
   ]
  },
  {
   "cell_type": "code",
   "execution_count": 59,
   "id": "e1f413ec-dc54-446b-9be9-6a1205de0d66",
   "metadata": {},
   "outputs": [
    {
     "name": "stdout",
     "output_type": "stream",
     "text": [
      "(6.9, 'z', 'hello', 26)\n"
     ]
    }
   ],
   "source": [
    "value = (26,45,'hello',7.5,'z',5,6.9)\n",
    "print(value[::-2])"
   ]
  },
  {
   "cell_type": "code",
   "execution_count": 61,
   "id": "ac93ae72-cf7d-487d-a0c3-ed427fd24007",
   "metadata": {},
   "outputs": [
    {
     "name": "stdout",
     "output_type": "stream",
     "text": [
      "(45, 'hello', 7.5, 'z', 5, 6.9)\n"
     ]
    }
   ],
   "source": [
    "value = (26,45,'hello',7.5,'z',5,6.9)\n",
    "print(value[1::1])"
   ]
  },
  {
   "cell_type": "code",
   "execution_count": 63,
   "id": "ffe69aa1-7b14-4b17-834b-dff03184168a",
   "metadata": {},
   "outputs": [
    {
     "name": "stdout",
     "output_type": "stream",
     "text": [
      "(45, 'z')\n"
     ]
    }
   ],
   "source": [
    "value = (26,45,'hello',7.5,'z',5,6.9)\n",
    "print(value[1::3])"
   ]
  },
  {
   "cell_type": "code",
   "execution_count": 65,
   "id": "31c91c74-a4b2-43f2-81ac-a1d5747ffcda",
   "metadata": {},
   "outputs": [
    {
     "name": "stdout",
     "output_type": "stream",
     "text": [
      "(6.9, 'z', 'hello', 26)\n"
     ]
    }
   ],
   "source": [
    "value = (26,45,'hello',7.5,'z',5,6.9)\n",
    "print(value[-1::-2])"
   ]
  },
  {
   "cell_type": "code",
   "execution_count": 67,
   "id": "164b054b-af65-4a07-94a4-5bbd5bb72487",
   "metadata": {},
   "outputs": [
    {
     "name": "stdout",
     "output_type": "stream",
     "text": [
      "(45, 7.5, 5)\n"
     ]
    }
   ],
   "source": [
    "value = (26,45,'hello',7.5,'z',5,6.9)\n",
    "print(value[1:6:2])"
   ]
  },
  {
   "cell_type": "code",
   "execution_count": 77,
   "id": "c9a8af5f-0367-4f7a-bcdd-6c33a5dae23e",
   "metadata": {},
   "outputs": [
    {
     "name": "stdout",
     "output_type": "stream",
     "text": [
      "(26, 45, 'hello', 7.5, 'z', 5, 6.9)\n",
      "(34, 45, 'python', 89, 'x', 5.5, 9)\n"
     ]
    }
   ],
   "source": [
    "#deleting tuple (del - keyword)\n",
    "value1_tuple = (26,45,'hello',7.5,'z',5,6.9)\n",
    "print(value1_tuple)\n",
    "value2_tuple =(34,45,'python',89,'x',5.5,9)\n",
    "print(value2_tuple)\n",
    "del(value1_tuple)\n",
    "\n"
   ]
  },
  {
   "cell_type": "code",
   "execution_count": 1,
   "id": "eb5a0020-2522-4626-9f82-38278af16c31",
   "metadata": {},
   "outputs": [
    {
     "name": "stdout",
     "output_type": "stream",
     "text": [
      "('hello',)\n",
      "(('hello',),)\n",
      "((('hello',),),)\n"
     ]
    }
   ],
   "source": [
    "#looping\n",
    "\n",
    "tuple =('hello')\n",
    "n=3\n",
    "for i in range(int(n)):\n",
    "    tuple=(tuple,)\n",
    "    print(tuple)"
   ]
  },
  {
   "cell_type": "code",
   "execution_count": 1,
   "id": "a785c2da-2ddf-429f-b236-eeff486973b5",
   "metadata": {},
   "outputs": [
    {
     "name": "stdout",
     "output_type": "stream",
     "text": [
      "5\n"
     ]
    }
   ],
   "source": [
    "#built in function\n",
    "tuple =('developer',5,8.9,'r',8)              # len\n",
    "print(len(tuple))"
   ]
  },
  {
   "cell_type": "code",
   "execution_count": 3,
   "id": "b70cf547-a026-4eb9-8c33-23359517f69f",
   "metadata": {},
   "outputs": [
    {
     "name": "stdout",
     "output_type": "stream",
     "text": [
      "89\n"
     ]
    }
   ],
   "source": [
    "tuple = (9,5,89,4,8)\n",
    "print(max(tuple))                            #max"
   ]
  },
  {
   "cell_type": "code",
   "execution_count": 5,
   "id": "41505250-c97c-4dac-8874-6678370e2b2b",
   "metadata": {},
   "outputs": [
    {
     "name": "stdout",
     "output_type": "stream",
     "text": [
      "4\n"
     ]
    }
   ],
   "source": [
    "tuple = (9,5,89,4,8)\n",
    "print(min(tuple))                        #min"
   ]
  },
  {
   "cell_type": "code",
   "execution_count": 7,
   "id": "9cee56e9-2b95-4340-919e-f246ac077a8e",
   "metadata": {},
   "outputs": [
    {
     "name": "stdout",
     "output_type": "stream",
     "text": [
      "115\n"
     ]
    }
   ],
   "source": [
    "tuple = (9,5,89,4,8)\n",
    "print(sum(tuple))                    #sum"
   ]
  },
  {
   "cell_type": "code",
   "execution_count": 9,
   "id": "5610d1e7-08b5-4e7a-83fd-5b3596a5219c",
   "metadata": {},
   "outputs": [
    {
     "name": "stdout",
     "output_type": "stream",
     "text": [
      "[4, 5, 8, 9, 89]\n"
     ]
    }
   ],
   "source": [
    "tuple = (9,5,89,4,8)\n",
    "print(sorted(tuple))                  #sorted"
   ]
  },
  {
   "cell_type": "code",
   "execution_count": 11,
   "id": "a53fda3b-d625-48aa-b504-6ec51714e117",
   "metadata": {},
   "outputs": [
    {
     "name": "stdout",
     "output_type": "stream",
     "text": [
      "True\n"
     ]
    }
   ],
   "source": [
    "tuple =(0,1)\n",
    "print(any(tuple))                        # any"
   ]
  },
  {
   "cell_type": "code",
   "execution_count": 13,
   "id": "0050fe0d-07e6-46d7-8ece-423a3ba57267",
   "metadata": {},
   "outputs": [
    {
     "name": "stdout",
     "output_type": "stream",
     "text": [
      "False\n"
     ]
    }
   ],
   "source": [
    "tuple =(0,)\n",
    "print(any(tuple))               "
   ]
  },
  {
   "cell_type": "code",
   "execution_count": 15,
   "id": "7fe4ce7c-79ab-49d2-926a-484203560da3",
   "metadata": {},
   "outputs": [
    {
     "name": "stdout",
     "output_type": "stream",
     "text": [
      "False\n"
     ]
    }
   ],
   "source": [
    "tuple=()\n",
    "print(any(tuple))"
   ]
  },
  {
   "cell_type": "code",
   "execution_count": 17,
   "id": "3043c48e-53e5-4d07-96ed-38d559980282",
   "metadata": {},
   "outputs": [
    {
     "name": "stdout",
     "output_type": "stream",
     "text": [
      "True\n"
     ]
    }
   ],
   "source": [
    "tuple =(4,1)                            #all\n",
    "print(all(tuple))"
   ]
  },
  {
   "cell_type": "code",
   "execution_count": 19,
   "id": "7483d3f0-84ce-4e93-9a19-3b1b4390aa92",
   "metadata": {},
   "outputs": [
    {
     "name": "stdout",
     "output_type": "stream",
     "text": [
      "False\n"
     ]
    }
   ],
   "source": [
    "tuple =(0,5,7)\n",
    "print(all(tuple))"
   ]
  },
  {
   "cell_type": "code",
   "execution_count": 29,
   "id": "d272c0b3-5abd-4d7f-82e3-53c02451e5ae",
   "metadata": {},
   "outputs": [
    {
     "name": "stdout",
     "output_type": "stream",
     "text": [
      "True\n"
     ]
    }
   ],
   "source": [
    "tuple =()\n",
    "print(all(tuple))"
   ]
  },
  {
   "cell_type": "code",
   "execution_count": 33,
   "id": "74505cd4-f28d-49b8-8f13-75a49cd2c822",
   "metadata": {},
   "outputs": [
    {
     "name": "stdout",
     "output_type": "stream",
     "text": [
      "apple\n",
      "byte\n",
      "computer\n"
     ]
    }
   ],
   "source": [
    "# Predict the output\n",
    "tuple =(\"apple\",\"byte\",\"computer\")\n",
    "for i in tuple:\n",
    "    print(i)"
   ]
  },
  {
   "cell_type": "code",
   "execution_count": 23,
   "id": "3788cd5b-9b3e-42f3-8be1-6ce80936cc3b",
   "metadata": {},
   "outputs": [
    {
     "name": "stdout",
     "output_type": "stream",
     "text": [
      "apple\n",
      "byte\n"
     ]
    }
   ],
   "source": [
    "tuple =(\"apple\",\"byte\",\"computer\")\n",
    "n=2\n",
    "for i in range(n):\n",
    "    print(tuple[i])"
   ]
  },
  {
   "cell_type": "code",
   "execution_count": 25,
   "id": "e70d501c-de5f-4a77-92a5-2ca3f1358294",
   "metadata": {},
   "outputs": [
    {
     "name": "stdout",
     "output_type": "stream",
     "text": [
      "apple\n"
     ]
    }
   ],
   "source": [
    "tuple =(\"apple\",\"byte\",\"computer\")\n",
    "n=2\n",
    "for i in range(n):\n",
    "    print(tuple[i])\n",
    "    break"
   ]
  },
  {
   "cell_type": "code",
   "execution_count": 39,
   "id": "21f10c10-3fa9-4da2-a7df-f08f3c686f3c",
   "metadata": {},
   "outputs": [
    {
     "name": "stdout",
     "output_type": "stream",
     "text": [
      "2\n",
      "1\n",
      "0\n"
     ]
    }
   ],
   "source": [
    "tuple =(3,7,'p','y','z',9.5,'y')\n",
    "print(tuple.count('y'))\n",
    "print(tuple.count(7))\n",
    "print(tuple.count(9))\n",
    "\n"
   ]
  },
  {
   "cell_type": "code",
   "execution_count": null,
   "id": "8a6b5840-f502-4eda-8e25-e417a1f5cd8e",
   "metadata": {},
   "outputs": [],
   "source": []
  }
 ],
 "metadata": {
  "kernelspec": {
   "display_name": "Python 3 (ipykernel)",
   "language": "python",
   "name": "python3"
  },
  "language_info": {
   "codemirror_mode": {
    "name": "ipython",
    "version": 3
   },
   "file_extension": ".py",
   "mimetype": "text/x-python",
   "name": "python",
   "nbconvert_exporter": "python",
   "pygments_lexer": "ipython3",
   "version": "3.12.4"
  }
 },
 "nbformat": 4,
 "nbformat_minor": 5
}
