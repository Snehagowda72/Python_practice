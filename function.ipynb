{
 "cells": [
  {
   "cell_type": "code",
   "execution_count": 1,
   "id": "7a8c3d20-03ed-4861-802e-9689d39ef1fc",
   "metadata": {},
   "outputs": [],
   "source": [
    "#function is group of related statments tht performs a specific tasks,avoid repetition and makes code reusable\n",
    "\n",
    "#Syntax: def function_name(parameters):\n",
    "          # statments"
   ]
  },
  {
   "cell_type": "code",
   "execution_count": 19,
   "id": "44e6db7f-6b79-4201-ab62-3e3f9969f976",
   "metadata": {},
   "outputs": [
    {
     "name": "stdout",
     "output_type": "stream",
     "text": [
      "The sum is:  13\n"
     ]
    }
   ],
   "source": [
    "def sum(a, b):\n",
    "    return a + b\n",
    "\n",
    "result = sum(10, 3)\n",
    "print(f\"The sum is: \",result)"
   ]
  },
  {
   "cell_type": "code",
   "execution_count": 13,
   "id": "c564175d-3c4c-4b6a-8f39-c839022c46c4",
   "metadata": {},
   "outputs": [],
   "source": [
    "def sum(a, b):\n",
    "    return a + b"
   ]
  },
  {
   "cell_type": "code",
   "execution_count": 17,
   "id": "4b66f7e9-3068-4ebd-9f22-ba79ad35e2b3",
   "metadata": {},
   "outputs": [
    {
     "name": "stdin",
     "output_type": "stream",
     "text": [
      " 5\n",
      " 6\n"
     ]
    },
    {
     "name": "stdout",
     "output_type": "stream",
     "text": [
      "11\n"
     ]
    }
   ],
   "source": [
    "a=int(input())\n",
    "b=int(input())\n",
    "c=sum(a,b)\n",
    "print(c)"
   ]
  },
  {
   "cell_type": "code",
   "execution_count": 23,
   "id": "065a8f6a-15e7-4c0c-a995-119c97846c08",
   "metadata": {},
   "outputs": [],
   "source": [
    "#program for factorial of a number using functions\n",
    "def fact(n):\n",
    "    fact=1\n",
    "    for i in range (1,n+1):\n",
    "        fact=fact*i\n",
    "    return fact"
   ]
  },
  {
   "cell_type": "code",
   "execution_count": 25,
   "id": "503265fd-d4d6-43d6-a2b7-3943330e39d3",
   "metadata": {},
   "outputs": [
    {
     "name": "stdin",
     "output_type": "stream",
     "text": [
      " 5\n"
     ]
    },
    {
     "name": "stdout",
     "output_type": "stream",
     "text": [
      "120\n"
     ]
    }
   ],
   "source": [
    "n=int(input())\n",
    "print(fact(n))"
   ]
  },
  {
   "cell_type": "code",
   "execution_count": 1,
   "id": "a340f297-f55c-438c-ab24-a8825c06147c",
   "metadata": {},
   "outputs": [],
   "source": [
    "#ways to write a function\n",
    "#  arguments\n",
    "# return type\n",
    "# with arugment with return type\n",
    "# without arguments with return type\n",
    "# with argument without return type\n",
    "# without argument without return type"
   ]
  },
  {
   "cell_type": "code",
   "execution_count": 3,
   "id": "292249cc-718d-49c5-92b9-6bb857200c39",
   "metadata": {},
   "outputs": [],
   "source": [
    "#user defined function\n",
    "def fun():\n",
    "    print(\"welcome to python\")"
   ]
  },
  {
   "cell_type": "code",
   "execution_count": 5,
   "id": "a0f1e3b2-6619-4cd2-ae97-c5592076081b",
   "metadata": {},
   "outputs": [
    {
     "name": "stdout",
     "output_type": "stream",
     "text": [
      "welcome to python\n"
     ]
    }
   ],
   "source": [
    "fun()"
   ]
  },
  {
   "cell_type": "code",
   "execution_count": 7,
   "id": "cf39ae81-6da1-4049-835a-76d0294ba7e5",
   "metadata": {},
   "outputs": [],
   "source": [
    "#Syntax:   lambda parameter_1,parameter_2,....parameter_n:expression"
   ]
  },
  {
   "cell_type": "raw",
   "id": "06ccabe3-fac2-46ad-9d72-ae1574fe5ed3",
   "metadata": {},
   "source": [
    "program to add two numbers using function:"
   ]
  },
  {
   "cell_type": "code",
   "execution_count": 11,
   "id": "4224fed3-34f1-454d-be01-db2153b47704",
   "metadata": {},
   "outputs": [
    {
     "name": "stdin",
     "output_type": "stream",
     "text": [
      "enter a number 5\n",
      "enter a number 10\n"
     ]
    }
   ],
   "source": [
    "def sum(n1,n2):\n",
    "    s=n1+n2\n",
    "    return s\n",
    "n1=int(input(\"enter a number\"))\n",
    "n2=int(input(\"enter a number\"))"
   ]
  },
  {
   "cell_type": "code",
   "execution_count": 7,
   "id": "3574d57b-7970-4c2c-a144-7d401b2564a0",
   "metadata": {},
   "outputs": [
    {
     "name": "stdin",
     "output_type": "stream",
     "text": [
      "enter a number 5\n",
      "enter a number 4\n",
      "enter a number 2\n"
     ]
    },
    {
     "name": "stdout",
     "output_type": "stream",
     "text": [
      "11\n"
     ]
    }
   ],
   "source": [
    "def sum(n1,n2,n3):\n",
    "    s=n1+n2+n3\n",
    "    return s\n",
    "x=int(input(\"enter a number\"))\n",
    "y=int(input(\"enter a number\"))\n",
    "z=int(input(\"enter a number\"))\n",
    "print(sum(x,y,z))"
   ]
  },
  {
   "cell_type": "code",
   "execution_count": 13,
   "id": "adfe8022-5c4e-4f85-92b8-1a91479c7585",
   "metadata": {},
   "outputs": [
    {
     "name": "stdin",
     "output_type": "stream",
     "text": [
      " 9\n",
      " 7\n",
      " 5\n"
     ]
    },
    {
     "data": {
      "text/plain": [
       "(21, 315)"
      ]
     },
     "execution_count": 13,
     "metadata": {},
     "output_type": "execute_result"
    }
   ],
   "source": [
    "x=int(input())\n",
    "y=int(input())\n",
    "z=int(input())\n",
    "def test(a,b,c):\n",
    "    add=a+b+c\n",
    "    product=a*b*c\n",
    "    return add,product\n",
    "test(x,y,z)"
   ]
  },
  {
   "cell_type": "code",
   "execution_count": 11,
   "id": "0f8eaec7-e959-4afa-803d-68bdbe14850f",
   "metadata": {},
   "outputs": [
    {
     "name": "stdin",
     "output_type": "stream",
     "text": [
      " 7\n",
      " 8\n",
      " 9\n"
     ]
    },
    {
     "data": {
      "text/plain": [
       "(24, 504)"
      ]
     },
     "execution_count": 11,
     "metadata": {},
     "output_type": "execute_result"
    }
   ],
   "source": [
    "x=int(input())\n",
    "y=int(input())\n",
    "z=int(input())\n",
    "def test1(a,b,c):\n",
    "    return a+b+c, a*b*c\n",
    "test1(x,y,z)"
   ]
  },
  {
   "cell_type": "code",
   "execution_count": 25,
   "id": "aedf8ac5-89e4-4a58-b624-091a288c5f51",
   "metadata": {},
   "outputs": [
    {
     "name": "stdin",
     "output_type": "stream",
     "text": [
      " 9\n",
      " 7\n",
      " 8\n"
     ]
    },
    {
     "name": "stdout",
     "output_type": "stream",
     "text": [
      "9 is greater\n"
     ]
    }
   ],
   "source": [
    "num1 =int(input())\n",
    "num2 =int(input())\n",
    "num3 =int(input())\n",
    "if (num1 >= num2) and (num1 >= num3):\n",
    "    print(num1,\"is greater\")\n",
    "elif (num2 >= num1) and (num2 >= num3):\n",
    "    print(num2,\"is greater\")\n",
    "elif (num3>=num1) and (num3>=num2):\n",
    "    print(num3,\"is greater\")\n",
    "else:\n",
    "    print(\"invalid\")\n",
    "\n"
   ]
  },
  {
   "cell_type": "code",
   "execution_count": 35,
   "id": "00f29965-dd1a-4962-b6c9-6137b614fa54",
   "metadata": {},
   "outputs": [
    {
     "name": "stdin",
     "output_type": "stream",
     "text": [
      " 19\n"
     ]
    },
    {
     "name": "stdout",
     "output_type": "stream",
     "text": [
      "first digit: 1\n",
      "second digit: 9\n",
      "output: 19\n",
      "special number\n"
     ]
    }
   ],
   "source": [
    "x=int(input())\n",
    "first=x//10\n",
    "second=x%10\n",
    "print(\"first digit:\", first)\n",
    "print(\"second digit:\", second)\n",
    "\n",
    "result=(first+second) + (first*second)\n",
    "print(\"output:\",result)\n",
    "\n",
    "if x== result:\n",
    "    print(\"special number\")\n",
    "else:\n",
    "    print(\"not a special number\")"
   ]
  },
  {
   "cell_type": "code",
   "execution_count": null,
   "id": "84baaee7-a91f-4ebf-a0f6-3c522230b0ed",
   "metadata": {},
   "outputs": [],
   "source": []
  }
 ],
 "metadata": {
  "kernelspec": {
   "display_name": "Python 3 (ipykernel)",
   "language": "python",
   "name": "python3"
  },
  "language_info": {
   "codemirror_mode": {
    "name": "ipython",
    "version": 3
   },
   "file_extension": ".py",
   "mimetype": "text/x-python",
   "name": "python",
   "nbconvert_exporter": "python",
   "pygments_lexer": "ipython3",
   "version": "3.12.4"
  }
 },
 "nbformat": 4,
 "nbformat_minor": 5
}
