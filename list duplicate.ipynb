{
 "cells": [
  {
   "cell_type": "code",
   "execution_count": 5,
   "id": "dbdf4377-c44e-4927-87bb-0e0f67b0035e",
   "metadata": {},
   "outputs": [
    {
     "name": "stdin",
     "output_type": "stream",
     "text": [
      " 5\n",
      " 10 20 30 20 10\n"
     ]
    },
    {
     "name": "stdout",
     "output_type": "stream",
     "text": [
      "Non duplicate items:\n",
      "[10, 20, 30]\n"
     ]
    }
   ],
   "source": [
    "# program to remove the duplicate items from the list\n",
    "s=int(input())\n",
    "l=list(map(int,input().split()))\n",
    "b=[]\n",
    "unique=[]\n",
    "for x in l:\n",
    "    if x not in b:\n",
    "        unique.append(x)\n",
    "        b.append(x)\n",
    "print(\"Non duplicate items:\")\n",
    "print(unique)"
   ]
  },
  {
   "cell_type": "code",
   "execution_count": 9,
   "id": "7961ca26-73c8-4c57-a251-e2a06f9d59ec",
   "metadata": {},
   "outputs": [
    {
     "name": "stdin",
     "output_type": "stream",
     "text": [
      " 10 5 15 24 56\n"
     ]
    },
    {
     "name": "stdout",
     "output_type": "stream",
     "text": [
      "[56, 5, 15, 24, 10]\n"
     ]
    }
   ],
   "source": [
    "# program to swap the first and last value of the list  [swapping using mathemtical]\n",
    "list1=list(map(int,input().split()))\n",
    "list1[0]=list1[0]+list1[-1]\n",
    "list1[-1]=list1[0]-list1[-1]\n",
    "list1[0]=list1[0]-list1[-1]\n",
    "print(list1)"
   ]
  },
  {
   "cell_type": "code",
   "execution_count": null,
   "id": "606d619e-a579-44c4-a412-540aa08fcb7b",
   "metadata": {},
   "outputs": [],
   "source": []
  }
 ],
 "metadata": {
  "kernelspec": {
   "display_name": "Python 3 (ipykernel)",
   "language": "python",
   "name": "python3"
  },
  "language_info": {
   "codemirror_mode": {
    "name": "ipython",
    "version": 3
   },
   "file_extension": ".py",
   "mimetype": "text/x-python",
   "name": "python",
   "nbconvert_exporter": "python",
   "pygments_lexer": "ipython3",
   "version": "3.12.4"
  }
 },
 "nbformat": 4,
 "nbformat_minor": 5
}
