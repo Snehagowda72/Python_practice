{
 "cells": [
  {
   "cell_type": "code",
   "execution_count": 1,
   "id": "de5b7be1-918c-43ec-8631-2928f0ab6f2d",
   "metadata": {},
   "outputs": [
    {
     "name": "stdin",
     "output_type": "stream",
     "text": [
      " niharika\n"
     ]
    },
    {
     "name": "stdout",
     "output_type": "stream",
     "text": [
      "n \n",
      "in \n",
      "hin \n",
      "ahin \n",
      "rahin \n",
      "irahin \n",
      "kirahin \n",
      "akirahin \n",
      "Reversed Text: akirahin \n",
      "No, the given string is not a palindrome\n"
     ]
    }
   ],
   "source": [
    "text=str(input())\n",
    "rev_text=\" \"\n",
    "for j in text:\n",
    "    rev_text=j+rev_text\n",
    "    print(rev_text)\n",
    "print(\"Reversed Text:\",rev_text)\n",
    "\n",
    "if text == rev_text:\n",
    "  print(\"yes, the given string is palindrome\")\n",
    "else:\n",
    "    print(\"No, the given string is not a palindrome\")"
   ]
  },
  {
   "cell_type": "code",
   "execution_count": null,
   "id": "a47e78a9-999b-4112-8806-5dc33e709c57",
   "metadata": {},
   "outputs": [],
   "source": []
  }
 ],
 "metadata": {
  "kernelspec": {
   "display_name": "Python 3 (ipykernel)",
   "language": "python",
   "name": "python3"
  },
  "language_info": {
   "codemirror_mode": {
    "name": "ipython",
    "version": 3
   },
   "file_extension": ".py",
   "mimetype": "text/x-python",
   "name": "python",
   "nbconvert_exporter": "python",
   "pygments_lexer": "ipython3",
   "version": "3.12.4"
  }
 },
 "nbformat": 4,
 "nbformat_minor": 5
}
