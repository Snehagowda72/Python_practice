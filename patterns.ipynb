{
 "cells": [
  {
   "cell_type": "code",
   "execution_count": 5,
   "id": "be221980-f5a9-4d78-9044-27a9ffb5590d",
   "metadata": {},
   "outputs": [
    {
     "name": "stdin",
     "output_type": "stream",
     "text": [
      "Enter an integer:  -7\n"
     ]
    },
    {
     "name": "stdout",
     "output_type": "stream",
     "text": [
      "The number is negative and odd.\n"
     ]
    }
   ],
   "source": [
    "# take a user input as a integer, use the nested if-else statment to determine and print whether the number is:\n",
    "#+ve and even\n",
    "# -ve and odd\n",
    "# -ve\n",
    "#zero\n",
    "\n",
    "num = int(input(\"Enter an integer: \"))\n",
    "\n",
    "if num > 0:\n",
    "    if num % 2 == 0:\n",
    "        print(\"The number is positive and even.\")\n",
    "    else:\n",
    "        print(\"The number is positive and odd.\")\n",
    "elif num < 0:\n",
    "    if num % 2 == 0:\n",
    "        print(\"The number is negative and even.\")\n",
    "    else:\n",
    "        print(\"The number is negative and odd.\")\n",
    "else:\n",
    "    print(\"The number is zero.\")"
   ]
  },
  {
   "cell_type": "code",
   "execution_count": 1,
   "id": "dfcf48d0-9196-419a-bd57-93943ef839ce",
   "metadata": {},
   "outputs": [
    {
     "name": "stdout",
     "output_type": "stream",
     "text": [
      "[1, 2, 3, 4, 5]\n"
     ]
    }
   ],
   "source": [
    "a=[1,2,3,4,5]\n",
    "print(a)"
   ]
  },
  {
   "cell_type": "code",
   "execution_count": 5,
   "id": "58b5f50f-1a1b-46ff-8969-96728dd771d0",
   "metadata": {},
   "outputs": [
    {
     "name": "stdout",
     "output_type": "stream",
     "text": [
      "[2.2, 3.33, 23, 45]\n"
     ]
    }
   ],
   "source": [
    "a=[2.2,3.33,23,45]\n",
    "print(a)"
   ]
  },
  {
   "cell_type": "code",
   "execution_count": 7,
   "id": "304dd950-2c6a-4dd1-ab48-2df7d00f92bc",
   "metadata": {},
   "outputs": [
    {
     "name": "stdout",
     "output_type": "stream",
     "text": [
      "['a', 'n', 'u']\n"
     ]
    }
   ],
   "source": [
    "a=['a','n','u']\n",
    "print(a)"
   ]
  },
  {
   "cell_type": "code",
   "execution_count": 9,
   "id": "132727ae-6dad-4af6-9be4-d11ae1c4d6ad",
   "metadata": {},
   "outputs": [
    {
     "name": "stdout",
     "output_type": "stream",
     "text": [
      "['apple', 'banana', 'orange']\n"
     ]
    }
   ],
   "source": [
    "d=['apple','banana','orange']\n",
    "print(d)"
   ]
  },
  {
   "cell_type": "code",
   "execution_count": 11,
   "id": "395e5aa1-ff6c-4399-95a2-21a7adbb1247",
   "metadata": {},
   "outputs": [
    {
     "name": "stdout",
     "output_type": "stream",
     "text": [
      "[[1, 2], ['a', 'b']]\n"
     ]
    }
   ],
   "source": [
    "a=[[1,2],['a','b']]\n",
    "print(a)"
   ]
  },
  {
   "cell_type": "code",
   "execution_count": 13,
   "id": "f1ac2a48-f8b9-4cfd-92b1-10fd3c34e738",
   "metadata": {},
   "outputs": [
    {
     "name": "stdout",
     "output_type": "stream",
     "text": [
      "****\n",
      "****\n",
      "****\n",
      "****\n"
     ]
    }
   ],
   "source": [
    "for i in range(4):\n",
    "    print(\"*\"*4)"
   ]
  },
  {
   "cell_type": "code",
   "execution_count": 29,
   "id": "aacc76c5-4a12-47f5-b271-c90a606e44a4",
   "metadata": {},
   "outputs": [
    {
     "name": "stdout",
     "output_type": "stream",
     "text": [
      "    ****\n",
      "   ****\n",
      "  ****\n",
      " ****\n"
     ]
    }
   ],
   "source": [
    "for i in range(4):\n",
    "    for j in range(4-i):\n",
    "        print(\" \",end=\"\")\n",
    "    print(\"*\"*4)"
   ]
  },
  {
   "cell_type": "code",
   "execution_count": 57,
   "id": "e544eb23-4e75-4452-8498-ba8363e15239",
   "metadata": {},
   "outputs": [
    {
     "name": "stdout",
     "output_type": "stream",
     "text": [
      " *\n",
      " *\n",
      " *\n",
      " ***\n",
      " ***\n",
      " *****\n"
     ]
    }
   ],
   "source": [
    "for i in range(1, n + 1):\n",
    "    for j in range(n - i):\n",
    "        print(\" \", end=\"\")\n",
    "        for k in range(1, 2*i):\n",
    "            print(\"*\", end=\"\")\n",
    "        print()"
   ]
  },
  {
   "cell_type": "code",
   "execution_count": 47,
   "id": "cfaf3e88-58f7-4ecc-8d1c-a21faea07677",
   "metadata": {},
   "outputs": [
    {
     "name": "stdout",
     "output_type": "stream",
     "text": [
      "        * \n",
      "      * * \n",
      "    * * * \n",
      "  * * * * \n",
      "* * * * * \n"
     ]
    }
   ],
   "source": [
    "for i in range(1, 6):\n",
    "    for j in range(5 - i): \n",
    "        print(\" \", end=\" \")\n",
    "    for k in range(i):   \n",
    "        print(\"*\", end=\" \")\n",
    "    print()"
   ]
  },
  {
   "cell_type": "code",
   "execution_count": 55,
   "id": "8c5f4c42-6b23-426a-8237-2c4443f1edc9",
   "metadata": {},
   "outputs": [
    {
     "name": "stdout",
     "output_type": "stream",
     "text": [
      "****\n",
      " ****\n",
      "  ****\n",
      "   ****\n"
     ]
    }
   ],
   "source": [
    "n=4\n",
    "for i in range(n):\n",
    "    print(\" \"*i+\"*\"*n)"
   ]
  },
  {
   "cell_type": "code",
   "execution_count": 29,
   "id": "e1dec183-7c42-4c9d-9c5c-d961824629de",
   "metadata": {},
   "outputs": [
    {
     "name": "stdout",
     "output_type": "stream",
     "text": [
      "* * * * \n",
      "* * * * \n",
      "* * * * \n",
      "* * * * \n",
      "* * * * \n"
     ]
    }
   ],
   "source": [
    "n=4\n",
    "for i in range(n+1):\n",
    "    for j in range(1,n+1):\n",
    "        print(\"*\", end=\" \")\n",
    "    print()"
   ]
  },
  {
   "cell_type": "code",
   "execution_count": 3,
   "id": "d7f09a0d-5f80-45c8-a4ba-df158b1924d7",
   "metadata": {},
   "outputs": [
    {
     "name": "stdout",
     "output_type": "stream",
     "text": [
      "**********\n",
      "*        *\n",
      "*        *\n",
      "*        *\n",
      "*        *\n",
      "*        *\n",
      "*        *\n",
      "*        *\n",
      "*        *\n",
      "**********\n"
     ]
    }
   ],
   "source": [
    "n = 10\n",
    "for i in range(n):\n",
    "    for j in range(n):\n",
    "        if i == 0 or i == n-1 or j==0 or j==n-1:\n",
    "            print(\"*\", end=\"\")\n",
    "        else:\n",
    "            print(\" \", end=\"\")\n",
    "    print()"
   ]
  },
  {
   "cell_type": "code",
   "execution_count": 1,
   "id": "648240e1-3520-4176-9622-88ae373a7dda",
   "metadata": {},
   "outputs": [
    {
     "name": "stdout",
     "output_type": "stream",
     "text": [
      "* * * * \n",
      "* * * * \n",
      "* * * * \n",
      "* * * * \n",
      "* * * * \n"
     ]
    }
   ],
   "source": [
    "n=4\n",
    "for i in range(n+1):\n",
    "    for j in range(1,n+1):\n",
    "        print(\"*\", end=\" \")\n",
    "    print()\n"
   ]
  },
  {
   "cell_type": "code",
   "execution_count": 5,
   "id": "04b0fa72-b7a8-47bd-9a77-45e42aeb0c8c",
   "metadata": {},
   "outputs": [
    {
     "name": "stdout",
     "output_type": "stream",
     "text": [
      "****\n",
      "*  *\n",
      "*  *\n",
      "****\n"
     ]
    }
   ],
   "source": [
    "n = 4\n",
    "for i in range(n):\n",
    "    for j in range(n):\n",
    "        if i == 0 or i == n-1 or j==0 or j==n-1:\n",
    "            print(\"*\", end=\"\")\n",
    "        else:\n",
    "            print(\" \", end=\"\")\n",
    "    print()"
   ]
  },
  {
   "cell_type": "code",
   "execution_count": null,
   "id": "7ced01dd-773d-441b-ba91-933ca6870ffd",
   "metadata": {},
   "outputs": [],
   "source": []
  }
 ],
 "metadata": {
  "kernelspec": {
   "display_name": "Python 3 (ipykernel)",
   "language": "python",
   "name": "python3"
  },
  "language_info": {
   "codemirror_mode": {
    "name": "ipython",
    "version": 3
   },
   "file_extension": ".py",
   "mimetype": "text/x-python",
   "name": "python",
   "nbconvert_exporter": "python",
   "pygments_lexer": "ipython3",
   "version": "3.12.4"
  }
 },
 "nbformat": 4,
 "nbformat_minor": 5
}
