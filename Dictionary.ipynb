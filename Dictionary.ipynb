{
 "cells": [
  {
   "cell_type": "code",
   "execution_count": 1,
   "id": "19ebf184-3836-435a-b1e7-8f7975170072",
   "metadata": {},
   "outputs": [],
   "source": [
    "#unorderd, indexed and changeable\n",
    "#dictionary holds key:value "
   ]
  },
  {
   "cell_type": "code",
   "execution_count": 3,
   "id": "a7392683-10f1-473b-bd86-dbc7deed8581",
   "metadata": {},
   "outputs": [
    {
     "data": {
      "text/plain": [
       "{}"
      ]
     },
     "execution_count": 3,
     "metadata": {},
     "output_type": "execute_result"
    }
   ],
   "source": [
    "# creating an empty dictionary\n",
    "dic={}\n",
    "dic"
   ]
  },
  {
   "cell_type": "code",
   "execution_count": 5,
   "id": "75e6c927-0b90-4b80-9e22-e7be227066ce",
   "metadata": {},
   "outputs": [
    {
     "data": {
      "text/plain": [
       "dict"
      ]
     },
     "execution_count": 5,
     "metadata": {},
     "output_type": "execute_result"
    }
   ],
   "source": [
    "type(dic)"
   ]
  },
  {
   "cell_type": "code",
   "execution_count": 7,
   "id": "dae39259-7cbc-4e96-8abe-7edea223057b",
   "metadata": {},
   "outputs": [
    {
     "data": {
      "text/plain": [
       "{1: 'Focus', 2: 'Academy', 3: 'for', 4: 'Career', 5: 'Enhancement'}"
      ]
     },
     "execution_count": 7,
     "metadata": {},
     "output_type": "execute_result"
    }
   ],
   "source": [
    "dic={1:\"Focus\",2:\"Academy\",3:\"for\",4:\"Career\",5:\"Enhancement\"}\n",
    "dic"
   ]
  },
  {
   "cell_type": "code",
   "execution_count": 9,
   "id": "906f8f36-a795-4d84-9262-c333da7062e1",
   "metadata": {},
   "outputs": [
    {
     "data": {
      "text/plain": [
       "{1: (2, 4, 5), 'Name': 'Face', 4: [5, 7]}"
      ]
     },
     "execution_count": 9,
     "metadata": {},
     "output_type": "execute_result"
    }
   ],
   "source": [
    "# creating dict with mixed keys\n",
    "dic={1:(2,4,5),\"Name\":\"Face\",4:[5,7]}\n",
    "dic"
   ]
  },
  {
   "cell_type": "code",
   "execution_count": 11,
   "id": "3e11fe7c-bb97-4211-8a6a-24da90cb3fbe",
   "metadata": {},
   "outputs": [
    {
     "name": "stdout",
     "output_type": "stream",
     "text": [
      "{0: 'Apple', 1: 'Hard', 2: 'work'}\n",
      "{0: 'Apple', 1: 'Hard', 2: 'work', 'new_set': (1, 5, 8)}\n"
     ]
    }
   ],
   "source": [
    "dic={}\n",
    "dic[0]=\"Apple\"\n",
    "dic[1]=\"Hard\"\n",
    "dic[2]=\"work\"\n",
    "print(dic)\n",
    "dic['new_set']=1,5,8\n",
    "print(dic)"
   ]
  },
  {
   "cell_type": "code",
   "execution_count": 1,
   "id": "87e90c30-b77d-47ad-9760-24cc24c87309",
   "metadata": {},
   "outputs": [],
   "source": [
    "# dictionaru comprehension\n",
    "#{key_expression:value_experssion for item in iterable}"
   ]
  },
  {
   "cell_type": "code",
   "execution_count": 3,
   "id": "24909150-1252-4f29-a688-c0cef5d83d0e",
   "metadata": {},
   "outputs": [
    {
     "name": "stdout",
     "output_type": "stream",
     "text": [
      "{0: 0, 1: 1, 2: 4, 3: 9, 4: 16}\n"
     ]
    }
   ],
   "source": [
    "# create a dictionary where the keys are numbers and the values are the squares of those numbers.\n",
    "squares={x:x**2 for x in range(5)}\n",
    "print(squares)"
   ]
  },
  {
   "cell_type": "code",
   "execution_count": 5,
   "id": "ad98121f-f086-44dd-aa95-d1c3674c52f7",
   "metadata": {},
   "outputs": [
    {
     "name": "stdout",
     "output_type": "stream",
     "text": [
      "{0: 0, 2: 8, 4: 64, 6: 216, 8: 512}\n"
     ]
    }
   ],
   "source": [
    "#create a dictionary where the keys are even numbers and the values are their cubes.\n",
    "cubes ={x:x**3 for x in range(10) if x%2==0}\n",
    "print(cubes)"
   ]
  },
  {
   "cell_type": "code",
   "execution_count": 7,
   "id": "1c9a30c5-0d2b-4bfc-9dd8-d4358b989be0",
   "metadata": {},
   "outputs": [
    {
     "name": "stdout",
     "output_type": "stream",
     "text": [
      "{'a': 1, 'b': 2, 'c': 3}\n"
     ]
    }
   ],
   "source": [
    "keys=['a','b','c',]\n",
    "values=[1,2,3]\n",
    "my_dict={keys[i]:values[i]for i in range(len(keys))}\n",
    "print(my_dict)"
   ]
  },
  {
   "cell_type": "code",
   "execution_count": 13,
   "id": "994c5e4e-7ef0-4e80-a7b0-cb781ee2fdca",
   "metadata": {},
   "outputs": [
    {
     "name": "stdout",
     "output_type": "stream",
     "text": [
      "{1: 'a', 2: 'b', 3: 'c'}\n"
     ]
    }
   ],
   "source": [
    "#create a dictionary by swapping keys and values from another dictionary.\n",
    "original={'a':1,'b':2,'c':3}\n",
    "swapped={v:k for k,v in original.items()}\n",
    "print(swapped)"
   ]
  },
  {
   "cell_type": "code",
   "execution_count": 17,
   "id": "e563eb0e-7275-41e4-87da-0abbd06899f5",
   "metadata": {},
   "outputs": [
    {
     "name": "stdout",
     "output_type": "stream",
     "text": [
      "{'b': 6, 'd': 10}\n"
     ]
    }
   ],
   "source": [
    "# where the values are only inculded if they satisfy a certain condition.\n",
    "original={'a':1,'b':6,'c':3,'d':10}\n",
    "filtered={k:v for k, v in original.items() if v>=5}\n",
    "print(filtered)"
   ]
  },
  {
   "cell_type": "code",
   "execution_count": 19,
   "id": "39e11a65-74e3-4ea6-a2e2-020bf2cd0141",
   "metadata": {},
   "outputs": [
    {
     "name": "stdout",
     "output_type": "stream",
     "text": [
      "{'a': 10, 'b': 20, 'c': 30}\n"
     ]
    }
   ],
   "source": [
    "# transforming values\n",
    "\n",
    "original={'a':1,'b':2,'c':3}\n",
    "transformed={k:v*10 for k,v in original.items()}\n",
    "print(transformed)"
   ]
  },
  {
   "cell_type": "code",
   "execution_count": 21,
   "id": "04cddad1-9f59-454a-a503-a39eb3095087",
   "metadata": {},
   "outputs": [
    {
     "name": "stdout",
     "output_type": "stream",
     "text": [
      "{1: {'square': 1, 'cube': 1}, 2: {'square': 4, 'cube': 8}, 3: {'square': 9, 'cube': 27}, 4: {'square': 16, 'cube': 64}}\n"
     ]
    }
   ],
   "source": [
    "#nested Dictionary Comprehension\n",
    "num=[1,2,3,4]\n",
    "nest={x:{'square':x**2,'cube':x**3} for x in num}\n",
    "print(nest)"
   ]
  },
  {
   "cell_type": "code",
   "execution_count": 25,
   "id": "46ec3cdc-31cd-4a39-8717-a6f220ff85af",
   "metadata": {},
   "outputs": [
    {
     "name": "stdout",
     "output_type": "stream",
     "text": [
      "{'a': 1, 'c': 3}\n"
     ]
    }
   ],
   "source": [
    "# creating a dictionary from two lists with a condition\n",
    "keys=['a','b','c','d']\n",
    "values=[1,2,3,4]\n",
    "filtered_dict={keys[i]:values[i] for i in range(len(keys))if i %2==0}\n",
    "print(filtered_dict)"
   ]
  },
  {
   "cell_type": "code",
   "execution_count": null,
   "id": "cdd9100f-a60f-412e-b24a-c161e891b089",
   "metadata": {},
   "outputs": [],
   "source": [
    "#creating a dictionary from tuple"
   ]
  },
  {
   "cell_type": "code",
   "execution_count": 27,
   "id": "74b329c5-6037-4677-94a8-3dc71b9bc3fa",
   "metadata": {},
   "outputs": [
    {
     "name": "stdout",
     "output_type": "stream",
     "text": [
      "{'a': 1, 'b': 2, 'c': 3, 'd': 0}\n"
     ]
    }
   ],
   "source": [
    "#Handling missing keys(default values)\n",
    "keys=['a','b','c','d']\n",
    "values=[1,2,3]\n",
    "my_dict={k:values[i] if i<len(values)else 0 for i, k in enumerate(keys)}\n",
    "print(my_dict)"
   ]
  },
  {
   "cell_type": "code",
   "execution_count": null,
   "id": "2d950cc8-2e1d-4a4c-8ef6-8dd66a02a597",
   "metadata": {},
   "outputs": [],
   "source": []
  }
 ],
 "metadata": {
  "kernelspec": {
   "display_name": "Python 3 (ipykernel)",
   "language": "python",
   "name": "python3"
  },
  "language_info": {
   "codemirror_mode": {
    "name": "ipython",
    "version": 3
   },
   "file_extension": ".py",
   "mimetype": "text/x-python",
   "name": "python",
   "nbconvert_exporter": "python",
   "pygments_lexer": "ipython3",
   "version": "3.12.4"
  }
 },
 "nbformat": 4,
 "nbformat_minor": 5
}
