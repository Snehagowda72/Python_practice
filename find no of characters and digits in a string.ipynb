{
 "cells": [
  {
   "cell_type": "code",
   "execution_count": 1,
   "id": "5d759185-932d-486b-9d5f-36578f53e80f",
   "metadata": {},
   "outputs": [
    {
     "name": "stdin",
     "output_type": "stream",
     "text": [
      " 02Sneha26\n"
     ]
    },
    {
     "name": "stdout",
     "output_type": "stream",
     "text": [
      "Digit: 4\n",
      "Alphabet: 5\n"
     ]
    }
   ],
   "source": [
    "x=input()\n",
    "digit=0\n",
    "alphabet=0\n",
    "for i in x:\n",
    "    if i.isdigit():\n",
    "        digit+=1\n",
    "    elif i.isalpha():\n",
    "        alphabet+=1\n",
    "print(\"Digit:\",digit)\n",
    "print(\"Alphabet:\",alphabet)"
   ]
  },
  {
   "cell_type": "code",
   "execution_count": null,
   "id": "56e96569-6af0-4a41-9811-76f6880c0540",
   "metadata": {},
   "outputs": [],
   "source": []
  }
 ],
 "metadata": {
  "kernelspec": {
   "display_name": "Python 3 (ipykernel)",
   "language": "python",
   "name": "python3"
  },
  "language_info": {
   "codemirror_mode": {
    "name": "ipython",
    "version": 3
   },
   "file_extension": ".py",
   "mimetype": "text/x-python",
   "name": "python",
   "nbconvert_exporter": "python",
   "pygments_lexer": "ipython3",
   "version": "3.12.4"
  }
 },
 "nbformat": 4,
 "nbformat_minor": 5
}
