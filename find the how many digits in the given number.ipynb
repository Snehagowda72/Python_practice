{
 "cells": [
  {
   "cell_type": "code",
   "execution_count": 1,
   "id": "b10ca5e0-7430-45bf-aef3-968915b2027e",
   "metadata": {},
   "outputs": [
    {
     "name": "stdin",
     "output_type": "stream",
     "text": [
      " 122\n"
     ]
    },
    {
     "name": "stdout",
     "output_type": "stream",
     "text": [
      "3\n"
     ]
    }
   ],
   "source": [
    "#program to find the how many digits in the given number\n",
    "x=int(input())\n",
    "z=str(x)\n",
    "total_digit=0\n",
    "for i in z:\n",
    "    total_digit+=1\n",
    "print(total_digit)"
   ]
  },
  {
   "cell_type": "code",
   "execution_count": null,
   "id": "25d3ca0d-dbf7-41bf-a495-e2ff9c602a3e",
   "metadata": {},
   "outputs": [],
   "source": []
  }
 ],
 "metadata": {
  "kernelspec": {
   "display_name": "Python 3 (ipykernel)",
   "language": "python",
   "name": "python3"
  },
  "language_info": {
   "codemirror_mode": {
    "name": "ipython",
    "version": 3
   },
   "file_extension": ".py",
   "mimetype": "text/x-python",
   "name": "python",
   "nbconvert_exporter": "python",
   "pygments_lexer": "ipython3",
   "version": "3.12.4"
  }
 },
 "nbformat": 4,
 "nbformat_minor": 5
}
